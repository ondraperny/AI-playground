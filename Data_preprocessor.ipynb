{
  "nbformat": 4,
  "nbformat_minor": 0,
  "metadata": {
    "colab": {
      "name": "Data_preprocessor.ipynb",
      "provenance": [],
      "collapsed_sections": [],
      "toc_visible": true,
      "mount_file_id": "1TqMz2n2iFBRo8x2GPsoeO-mBOnlOgEro",
      "authorship_tag": "ABX9TyNZ6/TvCTHVbzPQBH0mGWcH",
      "include_colab_link": true
    },
    "kernelspec": {
      "name": "python3",
      "display_name": "Python 3"
    }
  },
  "cells": [
    {
      "cell_type": "markdown",
      "metadata": {
        "id": "view-in-github",
        "colab_type": "text"
      },
      "source": [
        "<a href=\"https://colab.research.google.com/github/ondraperny/BI-BPR-2019/blob/master/Data_preprocessor.ipynb\" target=\"_parent\"><img src=\"https://colab.research.google.com/assets/colab-badge.svg\" alt=\"Open In Colab\"/></a>"
      ]
    },
    {
      "cell_type": "markdown",
      "metadata": {
        "id": "vrZ1RW4HpfVU",
        "colab_type": "text"
      },
      "source": [
        "# Data preprocessor\n",
        "Modul for preprocessing data. To simplify different types of preprocessed data.\n",
        "\n",
        "Function:\n",
        "\n",
        "**Copy whole content(subdirs recursively) to new path while applying filters co copied pictures.**"
      ]
    },
    {
      "cell_type": "code",
      "metadata": {
        "id": "niC6S-CUpStn",
        "colab_type": "code",
        "colab": {}
      },
      "source": [
        "import sys\n",
        "# check if code run on colab or local\n",
        "IN_COLAB = 'google.colab' in sys.modules\n",
        "\n",
        "if IN_COLAB:\n",
        "  # Mount google drive\n",
        "  from google.colab import drive\n",
        "  drive.mount('/content/drive')"
      ],
      "execution_count": 0,
      "outputs": []
    },
    {
      "cell_type": "markdown",
      "metadata": {
        "id": "AOpnIU1j_yjp",
        "colab_type": "text"
      },
      "source": [
        "**PATH_ORIGIN**      is path to directory with input data\n",
        "\n",
        "**PATH_DESTINATION** is path to directory where copy of transformed data will be saved(file structure of transformed dir will remain same)\n",
        "\n",
        "If we dont want to create copy, just transform data, then set PATH_DESTINATION same as PATH_ORIGIN."
      ]
    },
    {
      "cell_type": "code",
      "metadata": {
        "id": "UCv_v4jU_z05",
        "colab_type": "code",
        "colab": {}
      },
      "source": [
        "PATH_ORIGIN= \"/content/drive/My Drive/SKOLA/Bachelor_work/XR_HUMERUS/\"\n",
        "PATH_DESTINATION = \"/content/drive/My Drive/SKOLA/Bachelor_work/preprocessed_data/XR_HUMERUS/\"\n",
        "\n",
        "PATH_ORIGIN_LOCAL = \"G:\\\\My Drive\\\\SKOLA\\\\Bachelor_work\\\\XR_HUMERUS\\\\\"\n",
        "PATH_DESTINATION_LOCAL = \"G:\\\\My Drive\\\\SKOLA\\\\Bachelor_work\\\\preprocessed_data\\\\XR_HUMERUS\\\\\""
      ],
      "execution_count": 0,
      "outputs": []
    },
    {
      "cell_type": "markdown",
      "metadata": {
        "id": "nbj6tsH-_2JG",
        "colab_type": "text"
      },
      "source": [
        "### Data transformation class\n",
        "currently only class with all required methods"
      ]
    },
    {
      "cell_type": "code",
      "metadata": {
        "id": "HNFG31ggAOOC",
        "colab_type": "code",
        "colab": {}
      },
      "source": [
        "from PIL import Image\n",
        "from pathlib import Path\n",
        "import numpy as np\n",
        "import os\n",
        "import IPython.display\n",
        "\n",
        "class DataTransformation():\n",
        "  \"\"\"Encapsulate functions that are neccesary for processing images\n",
        "  and handling file structure\n",
        "  \n",
        "  Attributes\n",
        "  ----------\n",
        "  PATH_ORIGIN : str\n",
        "    valid path to dir with input data\n",
        "  PATH_DESTINATION : str\n",
        "    path to dir with output data (path does not have to exist yet)\n",
        "\n",
        "  Methods\n",
        "  -------\n",
        "  correct_dir_path(path)\n",
        "    If path string does not end with '\\', it adds it to the path\n",
        "  change_path(old_path, destination_path, file_path)\n",
        "    Change path of file from old dir to a new one\n",
        "  generate_subdirs(in_path)\n",
        "  generate_image_paths(dir_path)\n",
        "  open_image(image_path, return_in_PIL_format = False)\n",
        "  save_image(image_numpy_array, path_to_dir, image_name)\n",
        "  show_images(*images)\n",
        "  copy_imgs_apply_filters(self, max_images_per_dir, *filters)\n",
        "    Loads images from from PATH_ORIGIN, pply every filter function to an images\n",
        "    and save in same file structure\n",
        "  \"\"\"\n",
        "\n",
        "  def __init__(self, PATH_ORIGIN, PATH_DESTINATION):\n",
        "    self.PATH_ORIGIN = PATH_ORIGIN\n",
        "    self.PATH_DESTINATION = PATH_DESTINATION\n",
        "  \n",
        "  def correct_dir_path(self, path):\n",
        "    \"\"\"check if string is correct path to directory - ends with slash\n",
        "    if it doesn't, it adds it\n",
        "    @return correct path\"\"\"\n",
        "    if path[-1] != '/' and path[-1] != '\\\\':\n",
        "      if IN_COLAB:\n",
        "        path = path + '/'\n",
        "      else:\n",
        "        path = path + '\\\\'\n",
        "    return path\n",
        "\n",
        "  def change_path(self, old_path, destination_path, file_path):\n",
        "    \"\"\"take file_path, trim old_path from it and add destination_path instead\"\"\"\n",
        "    old_path = self.correct_dir_path(old_path)\n",
        "    old_path_len = len(old_path)\n",
        "    # cut off prefix(old_path) from file_path\n",
        "    dir_path_from_current = str(file_path)[old_path_len:]\n",
        "    destination_path = self.correct_dir_path(destination_path)\n",
        "    return destination_path + dir_path_from_current\n",
        "\n",
        "  @staticmethod\n",
        "  def generate_subdirs(dir_path):\n",
        "    \"\"\"Return generator to all subdirectories of in_path\"\"\"\n",
        "    for path in Path(dir_path).glob(\"**\"):\n",
        "      yield path\n",
        "\n",
        "  @staticmethod\n",
        "  def generate_image_paths(dir_path):\n",
        "    \"\"\"Generator with path to every png image in specified dir\"\"\"\n",
        "    for image in Path(dir_path).glob(\"*.png\"):\n",
        "      yield image\n",
        "\n",
        "  @staticmethod\n",
        "  def open_image(image_path, return_in_PIL_format = False):\n",
        "    \"\"\"Open image, based on parameter return image type\"\"\"\n",
        "    try:\n",
        "      image_PIL = Image.open(image_path).convert('L')\n",
        "      if return_in_PIL_format:\n",
        "        return image_PIL\n",
        "      else:\n",
        "        return np.array(image_PIL)\n",
        "    except:\n",
        "      print(\"Can't open image \\\"\" + str(image_path) + \"\\\"\")\n",
        "\n",
        "\n",
        "\n",
        "  def save_image(self, image_numpy_array, path_to_dir, image_name):\n",
        "    \"\"\"Save image to specified path, with specified name\"\"\"\n",
        "    path_to_dir = self.correct_dir_path(path_to_dir)\n",
        "    image = Image.fromarray(image_numpy_array)\n",
        "    image.save(path_to_dir+image_name+\".png\")\n",
        "    print(\"Image \" + image_name + \".png saved in \" + path_to_dir)\n",
        "\n",
        "  @staticmethod\n",
        "  def show_images(*images):\n",
        "    for img in images:\n",
        "      IPython.display.display(Image.fromarray(img))\n",
        "\n",
        "  def copy_imgs_apply_filters(self, max_images_per_dir, *filters):\n",
        "    \"\"\"Create directories in new path and copy all images in those directories, as well\n",
        "    apply filter on image\n",
        "    \n",
        "    Parameters\n",
        "    ----------\n",
        "    max_images_per_dir : int\n",
        "      maximum amount of processed images per directory \n",
        "    \"\"\"\n",
        "\n",
        "    for directory in self.generate_subdirs(self.PATH_ORIGIN):\n",
        "      # Create target directory & all intermediate directories if don't exists\n",
        "      new_path = self.change_path(self.PATH_ORIGIN, self.PATH_DESTINATION, directory)\n",
        "      # print(new_path)\n",
        "      try:\n",
        "        os.makedirs(new_path)    \n",
        "        print(\"Directory Created: \" , new_path)\n",
        "      except FileExistsError:\n",
        "        print(\"Directory Already exists: \" , new_path)\n",
        "      \n",
        "      cnt = 0\n",
        "      for image_path in self.generate_image_paths(directory):\n",
        "        image = self.open_image(image_path)\n",
        "        for filter in filters:\n",
        "          image = filter(image)         \n",
        "        self.save_image((image), new_path, Path(image_path).stem)\n",
        "\n",
        "        if max_images_per_dir == 0:\n",
        "          continue\n",
        "        elif cnt >= max_images_per_dir:\n",
        "          break\n",
        "        else:\n",
        "          cnt = cnt + 1"
      ],
      "execution_count": 0,
      "outputs": []
    },
    {
      "cell_type": "markdown",
      "metadata": {
        "id": "MVNBBy8gbKq6",
        "colab_type": "text"
      },
      "source": [
        "### Specific filters that can be used on data\n",
        "Encapsulated in class ImageFilters"
      ]
    },
    {
      "cell_type": "code",
      "metadata": {
        "id": "oYPxRPDEbkgv",
        "colab_type": "code",
        "colab": {}
      },
      "source": [
        "import cv2\n",
        "\n",
        "class ImageFilters:\n",
        "  \"\"\"Encapsulate all image filter functions\n",
        "  \n",
        "  Methods\n",
        "  -------\n",
        "  smoother(img)\n",
        "  histogram_equalization(img)\n",
        "  clahe(img)\n",
        "  \"\"\"\n",
        "\n",
        "  @staticmethod\n",
        "  def smoother(img):\n",
        "    \"\"\"smoother the image\"\"\"\n",
        "    kernel = np.ones((5,5),np.float32)/25\n",
        "    return cv2.filter2D(img,-1,kernel)\n",
        "\n",
        "  @staticmethod\n",
        "  def histogram_equalization(img):\n",
        "    \"\"\"Spread most frequent intensity values, creating better contrast image\"\"\"\n",
        "    return cv2.equalizeHist(img)\n",
        "  \n",
        "  @staticmethod\n",
        "  def clahe(img):\n",
        "    \"\"\"Contrast limited adaptive histogram equalization - works with adaptive\n",
        "    areas with small contrast amplification\"\"\"\n",
        "    clahe =  cv2.createCLAHE(clipLimit=2.0, tileGridSize=(8,8))\n",
        "    return clahe.apply(img)\n",
        "\n",
        "  @staticmethod\n",
        "  def find_region_of_interest(img):\n",
        "    \"\"\"TODO: function to find ROI\"\"\"    "
      ],
      "execution_count": 0,
      "outputs": []
    },
    {
      "cell_type": "markdown",
      "metadata": {
        "id": "-BY3emqodjr2",
        "colab_type": "text"
      },
      "source": [
        ""
      ]
    },
    {
      "cell_type": "code",
      "metadata": {
        "id": "2ulf9Egt-zJM",
        "colab_type": "code",
        "colab": {}
      },
      "source": [
        "if IN_COLAB:\n",
        "  trans = DataTransformation(PATH_ORIGIN, PATH_DESTINATION)\n",
        "else:\n",
        "  trans = DataTransformation(PATH_ORIGIN_LOCAL, PATH_DESTINATION_LOCAL)\n",
        "\n",
        "filters = ImageFilters()\n"
      ],
      "execution_count": 0,
      "outputs": []
    },
    {
      "cell_type": "code",
      "metadata": {
        "id": "bMrUc_nS2p7V",
        "colab_type": "code",
        "colab": {}
      },
      "source": [
        "trans.copy_imgs_apply_filters(5, filters.find_region_of_interest)"
      ],
      "execution_count": 0,
      "outputs": []
    },
    {
      "cell_type": "code",
      "metadata": {
        "id": "qEUD9kkYakZk",
        "colab_type": "code",
        "colab": {}
      },
      "source": [
        ""
      ],
      "execution_count": 0,
      "outputs": []
    }
  ]
}