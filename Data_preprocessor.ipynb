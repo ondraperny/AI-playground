{
  "nbformat": 4,
  "nbformat_minor": 0,
  "metadata": {
    "colab": {
      "name": "Data_preprocessor.ipynb",
      "provenance": [],
      "collapsed_sections": [],
      "authorship_tag": "ABX9TyO6JvG8YDlTOVius3QVf/2y",
      "include_colab_link": true
    },
    "kernelspec": {
      "name": "python3",
      "display_name": "Python 3"
    }
  },
  "cells": [
    {
      "cell_type": "markdown",
      "metadata": {
        "id": "view-in-github",
        "colab_type": "text"
      },
      "source": [
        "<a href=\"https://colab.research.google.com/github/ondraperny/BI-BPR-2019/blob/master/Data_preprocessor.ipynb\" target=\"_parent\"><img src=\"https://colab.research.google.com/assets/colab-badge.svg\" alt=\"Open In Colab\"/></a>"
      ]
    },
    {
      "cell_type": "markdown",
      "metadata": {
        "id": "vrZ1RW4HpfVU",
        "colab_type": "text"
      },
      "source": [
        "# Data preprocessor\n",
        "Modul for preprocessing data. To simplify different types of preprocessed data.\n",
        "\n",
        "Function:\n",
        "\n",
        "**Copy whole content(subdirs recursively) to new path while applying filters co copied pictures.**"
      ]
    },
    {
      "cell_type": "code",
      "metadata": {
        "id": "niC6S-CUpStn",
        "colab_type": "code",
        "colab": {
          "base_uri": "https://localhost:8080/",
          "height": 55
        },
        "outputId": "7135a8e7-86ad-49c0-84d0-52e433711a46"
      },
      "source": [
        "# Mount google drive\n",
        "from google.colab import drive\n",
        "drive.mount('/content/drive')"
      ],
      "execution_count": 46,
      "outputs": [
        {
          "output_type": "stream",
          "text": [
            "Drive already mounted at /content/drive; to attempt to forcibly remount, call drive.mount(\"/content/drive\", force_remount=True).\n"
          ],
          "name": "stdout"
        }
      ]
    },
    {
      "cell_type": "markdown",
      "metadata": {
        "id": "AOpnIU1j_yjp",
        "colab_type": "text"
      },
      "source": [
        "**PATH_ORIGIN**      is path to directory with input data\n",
        "\n",
        "**PATH_DESTINATION** is path to directory where copy of transformed data will be saved(file structure of transformed dir will remain same)\n",
        "\n",
        "If we dont want to create copy, just transform data, then set PATH_DESTINATION same as PATH_ORIGIN."
      ]
    },
    {
      "cell_type": "code",
      "metadata": {
        "id": "UCv_v4jU_z05",
        "colab_type": "code",
        "colab": {}
      },
      "source": [
        "PATH_ORIGIN= \"/content/drive/My Drive/SKOLA/Bachelor_work/preprocessed_data/XR_HUMERUS/\"\n",
        "PATH_DESTINATION = \"/content/drive/My Drive/SKOLA/Bachelor_work/preprocessed_data/XR_HUMERUS/\""
      ],
      "execution_count": 0,
      "outputs": []
    },
    {
      "cell_type": "markdown",
      "metadata": {
        "id": "nbj6tsH-_2JG",
        "colab_type": "text"
      },
      "source": [
        "### Data transformation class\n",
        "currently only class with all required methods"
      ]
    },
    {
      "cell_type": "code",
      "metadata": {
        "id": "HNFG31ggAOOC",
        "colab_type": "code",
        "outputId": "31e88d2e-3589-4970-a7e7-4f82a55a504a",
        "colab": {
          "base_uri": "https://localhost:8080/",
          "height": 294
        }
      },
      "source": [
        "from PIL import Image\n",
        "from pathlib import Path\n",
        "import numpy as np\n",
        "import os\n",
        "\n",
        "class DataTransformation():\n",
        "  def __init__(self, PATH_ORIGIN, PATH_DESTINATION):\n",
        "    # instance variable\n",
        "    self.PATH_ORIGIN = PATH_ORIGIN\n",
        "    self.PATH_DESTINATION = PATH_DESTINATION\n",
        "  \n",
        "  def correct_dir_path(self, path):\n",
        "    '''check if string is correct path to directory - ends with slash\n",
        "    if it doesn't, it adds it\n",
        "    @return correct path'''\n",
        "    if path[-1] != '/':\n",
        "      path = path + '/'\n",
        "    return path\n",
        "\n",
        "  def change_path(self, old_path, destination_path, file_path):\n",
        "    '''take file_path, trim old_path from it and add destination_path instead'''\n",
        "    old_path = self.correct_dir_path(old_path)\n",
        "    old_path_len = len(old_path)\n",
        "    # cut off prefix(old_path) from file_path\n",
        "    dir_path_from_current = str(file_path)[old_path_len:]\n",
        "    destination_path = self.correct_dir_path(destination_path)\n",
        "    return destination_path + dir_path_from_current\n",
        "\n",
        "  @staticmethod\n",
        "  def find_all_dirs(in_path):\n",
        "    '''Return generator to all subdirectories of in_path'''\n",
        "    for path in Path(in_path).glob(\"**\"):\n",
        "      yield path\n",
        "\n",
        "  @staticmethod\n",
        "  def open_image(image_path, return_in_PIL_format = False):\n",
        "    '''open image, based on parameter return image type'''\n",
        "    image_PIL = Image.open(image_path)\n",
        "    if return_in_PIL_format:\n",
        "      return image_PIL\n",
        "    return np.array(image_PIL)\n",
        "\n",
        "  def save_image(self, image_numpy_array, path_to_dir, image_name):\n",
        "    path_to_dir = self.correct_dir_path(path_to_dir)\n",
        "    image = Image.fromarray(image_numpy_array)\n",
        "    image.save(path_to_dir+image_name+\".png\")\n",
        "    print(\"Image \" + image_name + \".png saved in \" + path_to_dir)\n",
        "\n",
        "  @staticmethod\n",
        "  def generate_image_paths_in_dir(dir_path):\n",
        "    for image in Path(dir_path).glob(\"*.png\"):\n",
        "      yield image\n",
        "\n",
        "  def flow_control(self):\n",
        "    '''Create directories in new path and copy all images in those directories, as well\n",
        "    apply filter on image'''\n",
        "    '''TODO filter function will be passed as parameter'''\n",
        "    for directory in self.find_all_dirs(self.PATH_ORIGIN):\n",
        "      # Create target directory & all intermediate directories if don't exists\n",
        "      new_path = self.change_path(self.PATH_ORIGIN, self.PATH_DESTINATION, directory)\n",
        "      # print(new_path)\n",
        "      try:\n",
        "        os.makedirs(new_path)    \n",
        "        print(\"Directory Created: \" , new_path)\n",
        "      except FileExistsError:\n",
        "        print(\"Directory Already exists: \" , new_path)\n",
        "      \n",
        "      cnt = 5\n",
        "      for image_path in self.generate_image_paths_in_dir(directory):\n",
        "        if cnt != 0:\n",
        "          # print(\"   \" + str(image_path))\n",
        "          cnt = cnt - 1\n",
        "        \n",
        "          image = self.open_image(image_path)\n",
        "          self.save_image(image, new_path, Path(image_path).stem)\n",
        "\n",
        "  def normalize_brightness(self, image):\n",
        "    '''FIlter to normalize brightness of pictures'''\n",
        "\n",
        "\n",
        "trans = DataTransformation(PATH_ORIGIN, PATH_DESTINATION)\n",
        "\n",
        "trans.flow_control()\n",
        "\n",
        "#### TMP tests below\n",
        "\n",
        "# for path in trans.generate_image_paths_in_dir(PATH_ORIGIN+\"train/train_negative\"):\n",
        "#   print(path)\n",
        "\n",
        "# for path in trans.find_all_dirs(PATH_ORIGIN):\n",
        "#   print(path)\n",
        "\n",
        "# tmp_path = '/content/drive/My Drive/SKOLA/Bachelor_work/XR_HUMERUS/train/\\\n",
        "# train_negative'\n",
        "# trans.change_path(PATH_ORIGIN, PATH_DESTINATION, tmp_path)"
      ],
      "execution_count": 47,
      "outputs": [
        {
          "output_type": "stream",
          "text": [
            "Directory Already exists:  /content/drive/My Drive/SKOLA/Bachelor_work/preprocessed_data/XR_HUMERUS/\n",
            "Directory Already exists:  /content/drive/My Drive/SKOLA/Bachelor_work/preprocessed_data/XR_HUMERUS/train\n",
            "Directory Already exists:  /content/drive/My Drive/SKOLA/Bachelor_work/preprocessed_data/XR_HUMERUS/train/train_negative\n",
            "Image 0.png saved in /content/drive/My Drive/SKOLA/Bachelor_work/preprocessed_data/XR_HUMERUS/train/train_negative/\n",
            "Image 1.png saved in /content/drive/My Drive/SKOLA/Bachelor_work/preprocessed_data/XR_HUMERUS/train/train_negative/\n",
            "Image 2.png saved in /content/drive/My Drive/SKOLA/Bachelor_work/preprocessed_data/XR_HUMERUS/train/train_negative/\n",
            "Image 3.png saved in /content/drive/My Drive/SKOLA/Bachelor_work/preprocessed_data/XR_HUMERUS/train/train_negative/\n",
            "Image 4.png saved in /content/drive/My Drive/SKOLA/Bachelor_work/preprocessed_data/XR_HUMERUS/train/train_negative/\n",
            "Directory Already exists:  /content/drive/My Drive/SKOLA/Bachelor_work/preprocessed_data/XR_HUMERUS/train/train_positive\n",
            "Image 0.png saved in /content/drive/My Drive/SKOLA/Bachelor_work/preprocessed_data/XR_HUMERUS/train/train_positive/\n",
            "Image 1.png saved in /content/drive/My Drive/SKOLA/Bachelor_work/preprocessed_data/XR_HUMERUS/train/train_positive/\n",
            "Image 2.png saved in /content/drive/My Drive/SKOLA/Bachelor_work/preprocessed_data/XR_HUMERUS/train/train_positive/\n",
            "Image 3.png saved in /content/drive/My Drive/SKOLA/Bachelor_work/preprocessed_data/XR_HUMERUS/train/train_positive/\n",
            "Image 4.png saved in /content/drive/My Drive/SKOLA/Bachelor_work/preprocessed_data/XR_HUMERUS/train/train_positive/\n"
          ],
          "name": "stdout"
        }
      ]
    },
    {
      "cell_type": "code",
      "metadata": {
        "id": "2ulf9Egt-zJM",
        "colab_type": "code",
        "colab": {}
      },
      "source": [
        ""
      ],
      "execution_count": 0,
      "outputs": []
    }
  ]
}