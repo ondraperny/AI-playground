{
  "nbformat": 4,
  "nbformat_minor": 0,
  "metadata": {
    "colab": {
      "name": "MURA_data.ipynb",
      "provenance": [],
      "collapsed_sections": [],
      "include_colab_link": true
    },
    "kernelspec": {
      "name": "python3",
      "display_name": "Python 3"
    }
  },
  "cells": [
    {
      "cell_type": "markdown",
      "metadata": {
        "id": "view-in-github",
        "colab_type": "text"
      },
      "source": [
        "<a href=\"https://colab.research.google.com/github/ondraperny/BI-BPR-2019/blob/master/MURA_data.ipynb\" target=\"_parent\"><img src=\"https://colab.research.google.com/assets/colab-badge.svg\" alt=\"Open In Colab\"/></a>"
      ]
    },
    {
      "cell_type": "code",
      "metadata": {
        "id": "mbw0u9Xp2wwL",
        "colab_type": "code",
        "outputId": "e4768ad2-6b11-411d-a0bb-b99eeb7c15f7",
        "colab": {
          "base_uri": "https://localhost:8080/",
          "height": 112
        }
      },
      "source": [
        "import numpy as np\n",
        "import pandas as pd\n",
        "import matplotlib.pyplot as plt\n",
        "import keras\n",
        "import keras.backend as k\n",
        "from google.colab import drive\n",
        "drive.mount('/content/drive')\n",
        "from keras.preprocessing.image import ImageDataGenerator\n",
        "import os\n",
        "from glob import glob\n",
        "\n",
        "PATH=\"/content/drive/My Drive/SKOLA/Bachelor_work/XR_HUMERUS/\"\n",
        "\n",
        "IMG_SIZE=(224,224)\n",
        "BATCH_SIZE = 8\n",
        "\n",
        "train_batches = ImageDataGenerator().flow_from_directory(\n",
        "    PATH + 'train',      # this is the target directory\n",
        "    target_size=IMG_SIZE,  # all images will be resized to 224*224\n",
        "    batch_size=BATCH_SIZE,\n",
        ")\n",
        "\n",
        "valid_batches = ImageDataGenerator().flow_from_directory(\n",
        "    PATH + 'valid',      # this is the target directory\n",
        "    target_size=IMG_SIZE,  # all images will be resized to 224*224\n",
        "    batch_size=BATCH_SIZE, \n",
        ")\n",
        "\n",
        "print(train_batches.class_indices)\n",
        "print(train_batches.class_indices)\n",
        "\n"
      ],
      "execution_count": 0,
      "outputs": [
        {
          "output_type": "stream",
          "text": [
            "Drive already mounted at /content/drive; to attempt to forcibly remount, call drive.mount(\"/content/drive\", force_remount=True).\n",
            "Found 1272 images belonging to 2 classes.\n",
            "Found 288 images belonging to 2 classes.\n",
            "{'train_negative': 0, 'train_positive': 1}\n"
          ],
          "name": "stdout"
        }
      ]
    },
    {
      "cell_type": "code",
      "metadata": {
        "id": "XlF3BkGpcA8M",
        "colab_type": "code",
        "colab": {}
      },
      "source": [
        "model = keras.Sequential([\n",
        "  keras.layers.Conv2D(32, (3, 3), activation='relu', input_shape=(224,224,3)),\n",
        "  keras.layers.Flatten(),\n",
        "  keras.layers.Dense(2, activation='softmax'),\n",
        "])\n",
        "\n",
        "model.compile(optimizer='adam',\n",
        "              loss='categorical_crossentropy',\n",
        "              metrics=['accuracy'])\n"
      ],
      "execution_count": 0,
      "outputs": []
    },
    {
      "cell_type": "code",
      "metadata": {
        "id": "RLu4W0VHdw8b",
        "colab_type": "code",
        "outputId": "7036ee27-f827-4afa-b2ae-3407b61e0c72",
        "colab": {
          "base_uri": "https://localhost:8080/",
          "height": 243
        }
      },
      "source": [
        "model.fit_generator(train_batches,\n",
        "                    steps_per_epoch=62,\n",
        "                    validation_data = valid_batches,\n",
        "                    validation_steps = 62,\n",
        "                    epochs = 5)"
      ],
      "execution_count": 0,
      "outputs": [
        {
          "output_type": "stream",
          "text": [
            "Epoch 1/5\n",
            "62/62 [==============================] - 23s 367ms/step - loss: 5.9815 - acc: 0.6290 - val_loss: 8.3190 - val_acc: 0.4839\n",
            "Epoch 2/5\n",
            "62/62 [==============================] - 32s 513ms/step - loss: 7.2791 - acc: 0.5484 - val_loss: 9.0989 - val_acc: 0.4355\n",
            "Epoch 3/5\n",
            "62/62 [==============================] - 35s 559ms/step - loss: 8.0590 - acc: 0.5000 - val_loss: 6.7592 - val_acc: 0.5806\n",
            "Epoch 4/5\n",
            "62/62 [==============================] - 33s 537ms/step - loss: 7.7991 - acc: 0.5161 - val_loss: 7.0192 - val_acc: 0.5645\n",
            "Epoch 5/5\n",
            "62/62 [==============================] - 29s 466ms/step - loss: 7.2791 - acc: 0.5484 - val_loss: 7.2791 - val_acc: 0.5484\n"
          ],
          "name": "stdout"
        },
        {
          "output_type": "execute_result",
          "data": {
            "text/plain": [
              "<keras.callbacks.History at 0x7fcae6869358>"
            ]
          },
          "metadata": {
            "tags": []
          },
          "execution_count": 11
        }
      ]
    }
  ]
}